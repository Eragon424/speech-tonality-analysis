{
  "cells": [
    {
      "cell_type": "markdown",
      "metadata": {
        "id": "view-in-github",
        "colab_type": "text"
      },
      "source": [
        "<a href=\"https://colab.research.google.com/github/Eragon424/speech-tonality-analysis/blob/main/classification_(7).ipynb\" target=\"_parent\"><img src=\"https://colab.research.google.com/assets/colab-badge.svg\" alt=\"Open In Colab\"/></a>"
      ]
    },
    {
      "cell_type": "code",
      "execution_count": null,
      "id": "152caced-c7f4-4308-bd86-17fe471e5404",
      "metadata": {
        "id": "152caced-c7f4-4308-bd86-17fe471e5404",
        "outputId": "e4928ff8-9a85-409f-c5b7-3ed328aafba3"
      },
      "outputs": [
        {
          "name": "stdout",
          "output_type": "stream",
          "text": [
            "Requirement already satisfied: scikit-learn in c:\\users\\eragon\\anaconda3\\lib\\site-packages (1.2.1)\n",
            "Requirement already satisfied: threadpoolctl>=2.0.0 in c:\\users\\eragon\\anaconda3\\lib\\site-packages (from scikit-learn) (2.2.0)\n",
            "Requirement already satisfied: scipy>=1.3.2 in c:\\users\\eragon\\anaconda3\\lib\\site-packages (from scikit-learn) (1.10.0)\n",
            "Requirement already satisfied: joblib>=1.1.1 in c:\\users\\eragon\\anaconda3\\lib\\site-packages (from scikit-learn) (1.1.1)\n",
            "Requirement already satisfied: numpy>=1.17.3 in c:\\users\\eragon\\anaconda3\\lib\\site-packages (from scikit-learn) (1.23.5)\n",
            "Note: you may need to restart the kernel to use updated packages.\n"
          ]
        }
      ],
      "source": [
        "pip install scikit-learn"
      ]
    },
    {
      "cell_type": "code",
      "execution_count": null,
      "id": "4f044e8b-05a5-4863-8877-60833a3143bf",
      "metadata": {
        "id": "4f044e8b-05a5-4863-8877-60833a3143bf"
      },
      "outputs": [],
      "source": [
        "import pandas as pd\n",
        "import numpy as np\n",
        "import matplotlib.pyplot as plt\n",
        "%matplotlib inline\n",
        "\n",
        "import librosa\n",
        "import os\n",
        "import pathlib\n",
        "\n",
        "import pylab as pl\n",
        "import scipy.optimize as opt\n",
        "from sklearn import preprocessing\n",
        "from sklearn.model_selection import train_test_split\n",
        "\n",
        "import csv"
      ]
    },
    {
      "cell_type": "code",
      "execution_count": null,
      "id": "37e88fd9-5f44-4dd1-9fec-af1e24fd8490",
      "metadata": {
        "id": "37e88fd9-5f44-4dd1-9fec-af1e24fd8490",
        "outputId": "caf6d77b-b624-4e40-aa42-3a45ea15fbdf"
      },
      "outputs": [
        {
          "data": {
            "text/html": [
              "<div>\n",
              "<style scoped>\n",
              "    .dataframe tbody tr th:only-of-type {\n",
              "        vertical-align: middle;\n",
              "    }\n",
              "\n",
              "    .dataframe tbody tr th {\n",
              "        vertical-align: top;\n",
              "    }\n",
              "\n",
              "    .dataframe thead th {\n",
              "        text-align: right;\n",
              "    }\n",
              "</style>\n",
              "<table border=\"1\" class=\"dataframe\">\n",
              "  <thead>\n",
              "    <tr style=\"text-align: right;\">\n",
              "      <th></th>\n",
              "      <th>filename</th>\n",
              "      <th>mfcc_mean1</th>\n",
              "      <th>mfcc_mean2</th>\n",
              "      <th>mfcc_mean3</th>\n",
              "      <th>mfcc_mean4</th>\n",
              "      <th>mfcc_mean5</th>\n",
              "      <th>mfcc_mean6</th>\n",
              "      <th>mfcc_mean7</th>\n",
              "      <th>mfcc_mean8</th>\n",
              "      <th>mfcc_mean9</th>\n",
              "      <th>...</th>\n",
              "      <th>mfcc_std13</th>\n",
              "      <th>mfcc_std14</th>\n",
              "      <th>mfcc_std15</th>\n",
              "      <th>mfcc_std16</th>\n",
              "      <th>mfcc_std17</th>\n",
              "      <th>mfcc_std18</th>\n",
              "      <th>mfcc_std19</th>\n",
              "      <th>mfcc_std20</th>\n",
              "      <th>cent_mean</th>\n",
              "      <th>label</th>\n",
              "    </tr>\n",
              "  </thead>\n",
              "  <tbody>\n",
              "    <tr>\n",
              "      <th>0</th>\n",
              "      <td>00000d522439136554c888f4cfd92131.wav</td>\n",
              "      <td>-467.08884</td>\n",
              "      <td>67.734410</td>\n",
              "      <td>13.555082</td>\n",
              "      <td>38.741455</td>\n",
              "      <td>-7.167416</td>\n",
              "      <td>0.597688</td>\n",
              "      <td>-20.886284</td>\n",
              "      <td>15.138917</td>\n",
              "      <td>-8.795949</td>\n",
              "      <td>...</td>\n",
              "      <td>8.588613</td>\n",
              "      <td>8.318792</td>\n",
              "      <td>6.618607</td>\n",
              "      <td>7.076600</td>\n",
              "      <td>7.222637</td>\n",
              "      <td>7.806918</td>\n",
              "      <td>5.388669</td>\n",
              "      <td>7.536538</td>\n",
              "      <td>wavs</td>\n",
              "      <td>0</td>\n",
              "    </tr>\n",
              "    <tr>\n",
              "      <th>1</th>\n",
              "      <td>000039c2bc753aa5a776621a4707eb73.wav</td>\n",
              "      <td>-455.32877</td>\n",
              "      <td>69.964820</td>\n",
              "      <td>-28.523523</td>\n",
              "      <td>32.344345</td>\n",
              "      <td>-21.611555</td>\n",
              "      <td>-1.738283</td>\n",
              "      <td>-29.974870</td>\n",
              "      <td>-2.658362</td>\n",
              "      <td>-27.071587</td>\n",
              "      <td>...</td>\n",
              "      <td>7.017729</td>\n",
              "      <td>5.085210</td>\n",
              "      <td>5.052448</td>\n",
              "      <td>5.966898</td>\n",
              "      <td>4.432629</td>\n",
              "      <td>5.499484</td>\n",
              "      <td>4.201167</td>\n",
              "      <td>8.535248</td>\n",
              "      <td>wavs</td>\n",
              "      <td>0</td>\n",
              "    </tr>\n",
              "    <tr>\n",
              "      <th>2</th>\n",
              "      <td>000043e573826e21659ef9401d4ba84f.wav</td>\n",
              "      <td>-324.05480</td>\n",
              "      <td>115.785450</td>\n",
              "      <td>-21.114456</td>\n",
              "      <td>35.512660</td>\n",
              "      <td>-13.603605</td>\n",
              "      <td>-4.507683</td>\n",
              "      <td>-6.577841</td>\n",
              "      <td>-9.184050</td>\n",
              "      <td>-18.723753</td>\n",
              "      <td>...</td>\n",
              "      <td>18.828270</td>\n",
              "      <td>9.352553</td>\n",
              "      <td>10.229453</td>\n",
              "      <td>9.870971</td>\n",
              "      <td>6.685668</td>\n",
              "      <td>7.650016</td>\n",
              "      <td>10.031831</td>\n",
              "      <td>6.412236</td>\n",
              "      <td>wavs</td>\n",
              "      <td>0</td>\n",
              "    </tr>\n",
              "    <tr>\n",
              "      <th>3</th>\n",
              "      <td>000062a9bd8daf199cc520508902b304.wav</td>\n",
              "      <td>-412.43720</td>\n",
              "      <td>120.690140</td>\n",
              "      <td>4.870650</td>\n",
              "      <td>44.868004</td>\n",
              "      <td>-22.577837</td>\n",
              "      <td>15.440735</td>\n",
              "      <td>-18.214250</td>\n",
              "      <td>3.675842</td>\n",
              "      <td>-6.553605</td>\n",
              "      <td>...</td>\n",
              "      <td>6.921843</td>\n",
              "      <td>4.515031</td>\n",
              "      <td>5.963138</td>\n",
              "      <td>6.237720</td>\n",
              "      <td>5.724922</td>\n",
              "      <td>4.901245</td>\n",
              "      <td>5.649538</td>\n",
              "      <td>4.081949</td>\n",
              "      <td>wavs</td>\n",
              "      <td>0</td>\n",
              "    </tr>\n",
              "    <tr>\n",
              "      <th>4</th>\n",
              "      <td>000182128001302626efa6032d095cc8.wav</td>\n",
              "      <td>-477.00810</td>\n",
              "      <td>113.069885</td>\n",
              "      <td>-34.195324</td>\n",
              "      <td>34.832405</td>\n",
              "      <td>-21.345510</td>\n",
              "      <td>25.681898</td>\n",
              "      <td>-27.018713</td>\n",
              "      <td>4.594828</td>\n",
              "      <td>-17.452380</td>\n",
              "      <td>...</td>\n",
              "      <td>7.554842</td>\n",
              "      <td>7.380126</td>\n",
              "      <td>8.139834</td>\n",
              "      <td>7.889399</td>\n",
              "      <td>5.080637</td>\n",
              "      <td>6.300990</td>\n",
              "      <td>5.740642</td>\n",
              "      <td>5.134631</td>\n",
              "      <td>wavs</td>\n",
              "      <td>0</td>\n",
              "    </tr>\n",
              "    <tr>\n",
              "      <th>...</th>\n",
              "      <td>...</td>\n",
              "      <td>...</td>\n",
              "      <td>...</td>\n",
              "      <td>...</td>\n",
              "      <td>...</td>\n",
              "      <td>...</td>\n",
              "      <td>...</td>\n",
              "      <td>...</td>\n",
              "      <td>...</td>\n",
              "      <td>...</td>\n",
              "      <td>...</td>\n",
              "      <td>...</td>\n",
              "      <td>...</td>\n",
              "      <td>...</td>\n",
              "      <td>...</td>\n",
              "      <td>...</td>\n",
              "      <td>...</td>\n",
              "      <td>...</td>\n",
              "      <td>...</td>\n",
              "      <td>...</td>\n",
              "      <td>...</td>\n",
              "    </tr>\n",
              "    <tr>\n",
              "      <th>184628</th>\n",
              "      <td>fffdcb6c9078c84c88d65752474c8945.wav</td>\n",
              "      <td>-406.72284</td>\n",
              "      <td>103.964610</td>\n",
              "      <td>-42.010303</td>\n",
              "      <td>60.079086</td>\n",
              "      <td>-42.139908</td>\n",
              "      <td>36.664444</td>\n",
              "      <td>-42.244087</td>\n",
              "      <td>19.113665</td>\n",
              "      <td>-19.777035</td>\n",
              "      <td>...</td>\n",
              "      <td>5.468694</td>\n",
              "      <td>5.583583</td>\n",
              "      <td>5.220826</td>\n",
              "      <td>6.555201</td>\n",
              "      <td>5.548795</td>\n",
              "      <td>5.608561</td>\n",
              "      <td>5.275757</td>\n",
              "      <td>4.273073</td>\n",
              "      <td>wavs</td>\n",
              "      <td>1</td>\n",
              "    </tr>\n",
              "    <tr>\n",
              "      <th>184629</th>\n",
              "      <td>fffe6e2189d87d2bcf4e10fba9a4aa73.wav</td>\n",
              "      <td>-310.43698</td>\n",
              "      <td>161.317870</td>\n",
              "      <td>-11.443884</td>\n",
              "      <td>39.847830</td>\n",
              "      <td>13.334776</td>\n",
              "      <td>28.219568</td>\n",
              "      <td>7.392763</td>\n",
              "      <td>11.241220</td>\n",
              "      <td>-1.343260</td>\n",
              "      <td>...</td>\n",
              "      <td>7.814247</td>\n",
              "      <td>11.815525</td>\n",
              "      <td>8.904210</td>\n",
              "      <td>9.721940</td>\n",
              "      <td>6.524000</td>\n",
              "      <td>6.089618</td>\n",
              "      <td>7.029152</td>\n",
              "      <td>5.702905</td>\n",
              "      <td>wavs</td>\n",
              "      <td>0</td>\n",
              "    </tr>\n",
              "    <tr>\n",
              "      <th>184630</th>\n",
              "      <td>fffeba24094a8cdf1737387158a8b220.wav</td>\n",
              "      <td>-266.47668</td>\n",
              "      <td>124.357830</td>\n",
              "      <td>-9.233796</td>\n",
              "      <td>25.878456</td>\n",
              "      <td>-13.423601</td>\n",
              "      <td>-8.512863</td>\n",
              "      <td>-30.396950</td>\n",
              "      <td>1.176547</td>\n",
              "      <td>-5.997843</td>\n",
              "      <td>...</td>\n",
              "      <td>10.373017</td>\n",
              "      <td>6.366199</td>\n",
              "      <td>7.475891</td>\n",
              "      <td>10.202706</td>\n",
              "      <td>7.864334</td>\n",
              "      <td>9.025516</td>\n",
              "      <td>6.211788</td>\n",
              "      <td>5.641520</td>\n",
              "      <td>wavs</td>\n",
              "      <td>0</td>\n",
              "    </tr>\n",
              "    <tr>\n",
              "      <th>184631</th>\n",
              "      <td>fffeefeeb5cc057d212d08dab33b9b56.wav</td>\n",
              "      <td>-385.38248</td>\n",
              "      <td>154.218920</td>\n",
              "      <td>-13.083211</td>\n",
              "      <td>22.870913</td>\n",
              "      <td>14.446136</td>\n",
              "      <td>26.102562</td>\n",
              "      <td>-9.495589</td>\n",
              "      <td>8.869211</td>\n",
              "      <td>-1.466560</td>\n",
              "      <td>...</td>\n",
              "      <td>7.554702</td>\n",
              "      <td>9.499482</td>\n",
              "      <td>9.867852</td>\n",
              "      <td>6.452058</td>\n",
              "      <td>7.535012</td>\n",
              "      <td>8.333311</td>\n",
              "      <td>6.215310</td>\n",
              "      <td>6.899868</td>\n",
              "      <td>wavs</td>\n",
              "      <td>0</td>\n",
              "    </tr>\n",
              "    <tr>\n",
              "      <th>184632</th>\n",
              "      <td>ffff4f25708e1f04fe8825f2184fcb59.wav</td>\n",
              "      <td>-437.01420</td>\n",
              "      <td>103.364130</td>\n",
              "      <td>-24.791080</td>\n",
              "      <td>47.479935</td>\n",
              "      <td>-30.400463</td>\n",
              "      <td>29.123228</td>\n",
              "      <td>-12.525658</td>\n",
              "      <td>11.360854</td>\n",
              "      <td>-2.117977</td>\n",
              "      <td>...</td>\n",
              "      <td>4.814170</td>\n",
              "      <td>5.594896</td>\n",
              "      <td>4.943029</td>\n",
              "      <td>9.539113</td>\n",
              "      <td>5.989499</td>\n",
              "      <td>7.234143</td>\n",
              "      <td>4.186586</td>\n",
              "      <td>5.861663</td>\n",
              "      <td>wavs</td>\n",
              "      <td>1</td>\n",
              "    </tr>\n",
              "  </tbody>\n",
              "</table>\n",
              "<p>182752 rows × 43 columns</p>\n",
              "</div>"
            ],
            "text/plain": [
              "                                    filename  mfcc_mean1  mfcc_mean2  \\\n",
              "0       00000d522439136554c888f4cfd92131.wav  -467.08884   67.734410   \n",
              "1       000039c2bc753aa5a776621a4707eb73.wav  -455.32877   69.964820   \n",
              "2       000043e573826e21659ef9401d4ba84f.wav  -324.05480  115.785450   \n",
              "3       000062a9bd8daf199cc520508902b304.wav  -412.43720  120.690140   \n",
              "4       000182128001302626efa6032d095cc8.wav  -477.00810  113.069885   \n",
              "...                                      ...         ...         ...   \n",
              "184628  fffdcb6c9078c84c88d65752474c8945.wav  -406.72284  103.964610   \n",
              "184629  fffe6e2189d87d2bcf4e10fba9a4aa73.wav  -310.43698  161.317870   \n",
              "184630  fffeba24094a8cdf1737387158a8b220.wav  -266.47668  124.357830   \n",
              "184631  fffeefeeb5cc057d212d08dab33b9b56.wav  -385.38248  154.218920   \n",
              "184632  ffff4f25708e1f04fe8825f2184fcb59.wav  -437.01420  103.364130   \n",
              "\n",
              "        mfcc_mean3  mfcc_mean4  mfcc_mean5  mfcc_mean6  mfcc_mean7  \\\n",
              "0        13.555082   38.741455   -7.167416    0.597688  -20.886284   \n",
              "1       -28.523523   32.344345  -21.611555   -1.738283  -29.974870   \n",
              "2       -21.114456   35.512660  -13.603605   -4.507683   -6.577841   \n",
              "3         4.870650   44.868004  -22.577837   15.440735  -18.214250   \n",
              "4       -34.195324   34.832405  -21.345510   25.681898  -27.018713   \n",
              "...            ...         ...         ...         ...         ...   \n",
              "184628  -42.010303   60.079086  -42.139908   36.664444  -42.244087   \n",
              "184629  -11.443884   39.847830   13.334776   28.219568    7.392763   \n",
              "184630   -9.233796   25.878456  -13.423601   -8.512863  -30.396950   \n",
              "184631  -13.083211   22.870913   14.446136   26.102562   -9.495589   \n",
              "184632  -24.791080   47.479935  -30.400463   29.123228  -12.525658   \n",
              "\n",
              "        mfcc_mean8  mfcc_mean9  ...  mfcc_std13  mfcc_std14  mfcc_std15  \\\n",
              "0        15.138917   -8.795949  ...    8.588613    8.318792    6.618607   \n",
              "1        -2.658362  -27.071587  ...    7.017729    5.085210    5.052448   \n",
              "2        -9.184050  -18.723753  ...   18.828270    9.352553   10.229453   \n",
              "3         3.675842   -6.553605  ...    6.921843    4.515031    5.963138   \n",
              "4         4.594828  -17.452380  ...    7.554842    7.380126    8.139834   \n",
              "...            ...         ...  ...         ...         ...         ...   \n",
              "184628   19.113665  -19.777035  ...    5.468694    5.583583    5.220826   \n",
              "184629   11.241220   -1.343260  ...    7.814247   11.815525    8.904210   \n",
              "184630    1.176547   -5.997843  ...   10.373017    6.366199    7.475891   \n",
              "184631    8.869211   -1.466560  ...    7.554702    9.499482    9.867852   \n",
              "184632   11.360854   -2.117977  ...    4.814170    5.594896    4.943029   \n",
              "\n",
              "        mfcc_std16  mfcc_std17  mfcc_std18  mfcc_std19  mfcc_std20  cent_mean  \\\n",
              "0         7.076600    7.222637    7.806918    5.388669    7.536538       wavs   \n",
              "1         5.966898    4.432629    5.499484    4.201167    8.535248       wavs   \n",
              "2         9.870971    6.685668    7.650016   10.031831    6.412236       wavs   \n",
              "3         6.237720    5.724922    4.901245    5.649538    4.081949       wavs   \n",
              "4         7.889399    5.080637    6.300990    5.740642    5.134631       wavs   \n",
              "...            ...         ...         ...         ...         ...        ...   \n",
              "184628    6.555201    5.548795    5.608561    5.275757    4.273073       wavs   \n",
              "184629    9.721940    6.524000    6.089618    7.029152    5.702905       wavs   \n",
              "184630   10.202706    7.864334    9.025516    6.211788    5.641520       wavs   \n",
              "184631    6.452058    7.535012    8.333311    6.215310    6.899868       wavs   \n",
              "184632    9.539113    5.989499    7.234143    4.186586    5.861663       wavs   \n",
              "\n",
              "        label  \n",
              "0           0  \n",
              "1           0  \n",
              "2           0  \n",
              "3           0  \n",
              "4           0  \n",
              "...       ...  \n",
              "184628      1  \n",
              "184629      0  \n",
              "184630      0  \n",
              "184631      0  \n",
              "184632      1  \n",
              "\n",
              "[182752 rows x 43 columns]"
            ]
          },
          "execution_count": 66,
          "metadata": {},
          "output_type": "execute_result"
        }
      ],
      "source": [
        "#датасет  не с балансируемым полным набором тишина удалена\n",
        "data_x_train = pd.read_csv('dataset__balance_no_silince_train.csv')\n",
        "data_y_train = pd.read_csv('y_train_full')\n",
        "data_x_train['label']= data_y_train['annotator_emo']\n",
        "\n",
        "\n",
        "#удалим эмоции с пометкой другие\n",
        "grouped = data_x_train\n",
        "data_x_train = grouped[grouped.label != 'other' ]\n",
        "\n",
        "#сделаем новые метки классов тональности angry = -1 neutral = 0  positive =1  sad -1\n",
        "data_x_train.loc[(data_x_train.label =='angry'),('label')] = 1\n",
        "data_x_train.loc[(data_x_train.label =='neutral'),('label')] = 0\n",
        "data_x_train.loc[(data_x_train.label =='positive'),('label')] = 2\n",
        "data_x_train.loc[(data_x_train.label =='sad'),('label')] = 1\n",
        "data_x_train['label'].astype(int)\n",
        "\n",
        "data_x_train"
      ]
    },
    {
      "cell_type": "markdown",
      "id": "a568b15b-aa7a-46bc-be70-0f2a756719c3",
      "metadata": {
        "id": "a568b15b-aa7a-46bc-be70-0f2a756719c3"
      },
      "source": [
        "Разделим наши данные на зависимую (целевую) - (у) переменную и независимые -(х) переменные.\n",
        "Классификация пытается узнать связь между набором переменных характеристик (х) и целевой переменной (у)\n",
        "Целевой атрибут в классификации является категориальной переменной в колонке 'label' - это метка (правильный ответ). Учитывая набор обучающих точек данных вместе с целевыми метками, классификация определяет метку класса для немаркированного тестового случая.\n",
        "Цель прогноза классификация тональности (эмоций).\n",
        "Классификация заключается в использовании существующих данных, которые имеют информацию об аудиосигнале - значимые характеристики аудиоданных (45 значений), для создания классификатора, который смог бы использовать этот опыт для решения той же проблемы в новых ситуациях, и на новых данных, а затем и маркировки новых данных.\n",
        "Метод - value_counts(). Подсчет значений - это хороший способ понять, сколько единиц каждой характеристики / переменной у нас есть.\n",
        "Посмотрим на подсчет значений в колонке 'label'."
      ]
    },
    {
      "cell_type": "code",
      "execution_count": null,
      "id": "2955ad4f-26c7-4330-bc48-101ef088a660",
      "metadata": {
        "id": "2955ad4f-26c7-4330-bc48-101ef088a660",
        "outputId": "28eee03d-f622-4225-e059-f75a1987aca2"
      },
      "outputs": [
        {
          "data": {
            "text/plain": [
              "0    109186\n",
              "1     53636\n",
              "2     19930\n",
              "Name: label, dtype: int64"
            ]
          },
          "execution_count": 67,
          "metadata": {},
          "output_type": "execute_result"
        }
      ],
      "source": [
        "data_x_train['label'].value_counts()"
      ]
    },
    {
      "cell_type": "markdown",
      "id": "f3aa6ad0-d465-4506-85a6-3b796e76fe12",
      "metadata": {
        "id": "f3aa6ad0-d465-4506-85a6-3b796e76fe12"
      },
      "source": [
        "y - зависимая (целевая) переменная это колонка 'label' в нашем наборе данных\n",
        "Чтобы использовать библиотеку scikit-learn, нам нужно преобразовать Dataframes (фрейм данных) Pandas в массив Numpy."
      ]
    },
    {
      "cell_type": "code",
      "execution_count": null,
      "id": "00d7747d-743a-46fa-a757-f52ca0f583a0",
      "metadata": {
        "id": "00d7747d-743a-46fa-a757-f52ca0f583a0",
        "outputId": "a71f3527-eb92-4b1f-bbbb-2f56f86d5fd0"
      },
      "outputs": [
        {
          "ename": "AttributeError",
          "evalue": "'numpy.ndarray' object has no attribute 'value_counts'",
          "output_type": "error",
          "traceback": [
            "\u001b[1;31m---------------------------------------------------------------------------\u001b[0m",
            "\u001b[1;31mAttributeError\u001b[0m                            Traceback (most recent call last)",
            "Cell \u001b[1;32mIn[68], line 3\u001b[0m\n\u001b[0;32m      1\u001b[0m y \u001b[38;5;241m=\u001b[39m data_x_train[\u001b[38;5;124m'\u001b[39m\u001b[38;5;124mlabel\u001b[39m\u001b[38;5;124m'\u001b[39m]\u001b[38;5;241m.\u001b[39mvalues\n\u001b[0;32m      2\u001b[0m y\u001b[38;5;241m=\u001b[39my\u001b[38;5;241m.\u001b[39mastype(\u001b[38;5;124m'\u001b[39m\u001b[38;5;124mint\u001b[39m\u001b[38;5;124m'\u001b[39m)\n\u001b[1;32m----> 3\u001b[0m \u001b[43my\u001b[49m\u001b[38;5;241;43m.\u001b[39;49m\u001b[43mvalue_counts\u001b[49m()\n",
            "\u001b[1;31mAttributeError\u001b[0m: 'numpy.ndarray' object has no attribute 'value_counts'"
          ]
        }
      ],
      "source": [
        "y = data_x_train['label'].values\n",
        "y=y.astype('int')\n",
        "y.value_counts()\n"
      ]
    },
    {
      "cell_type": "code",
      "execution_count": null,
      "id": "83badf57-4097-4b60-b7f0-71f4297145a3",
      "metadata": {
        "id": "83badf57-4097-4b60-b7f0-71f4297145a3",
        "outputId": "016dee4c-7d3f-465f-ce7c-26de4924c3fc"
      },
      "outputs": [
        {
          "data": {
            "text/plain": [
              "Index(['filename', 'mfcc_mean1', 'mfcc_mean2', 'mfcc_mean3', 'mfcc_mean4',\n",
              "       'mfcc_mean5', 'mfcc_mean6', 'mfcc_mean7', 'mfcc_mean8', 'mfcc_mean9',\n",
              "       'mfcc_mean10', 'mfcc_mean11', 'mfcc_mean12', 'mfcc_mean13',\n",
              "       'mfcc_mean14', 'mfcc_mean15', 'mfcc_mean16', 'mfcc_mean17',\n",
              "       'mfcc_mean18', 'mfcc_mean19', 'mfcc_mean20', 'mfcc_std1', 'mfcc_std2',\n",
              "       'mfcc_std3', 'mfcc_std4', 'mfcc_std5', 'mfcc_std6', 'mfcc_std7',\n",
              "       'mfcc_std8', 'mfcc_std9', 'mfcc_std10', 'mfcc_std11', 'mfcc_std12',\n",
              "       'mfcc_std13', 'mfcc_std14', 'mfcc_std15', 'mfcc_std16', 'mfcc_std17',\n",
              "       'mfcc_std18', 'mfcc_std19', 'mfcc_std20', 'cent_mean', 'label'],\n",
              "      dtype='object')"
            ]
          },
          "execution_count": 69,
          "metadata": {},
          "output_type": "execute_result"
        }
      ],
      "source": [
        "#Посмотрим на название колонок в наборе данных:\n",
        "data_x_train.columns"
      ]
    },
    {
      "cell_type": "code",
      "execution_count": null,
      "id": "c7a67580-c44c-43b5-a90c-ecfb059ef9e6",
      "metadata": {
        "id": "c7a67580-c44c-43b5-a90c-ecfb059ef9e6"
      },
      "outputs": [],
      "source": [
        "# в столбце cent_mean есть NAN значения, их нужно убрать, чтобы обучать модель используем метод fillna\n",
        "data_x_train=data_x_train.fillna(method='ffill')"
      ]
    },
    {
      "cell_type": "markdown",
      "id": "91adc376-c066-4b1e-97d0-efae68544751",
      "metadata": {
        "id": "91adc376-c066-4b1e-97d0-efae68544751"
      },
      "source": [
        "X - независимые переменные. Это значимые характеристики аудиоданных (45 значений)"
      ]
    },
    {
      "cell_type": "markdown",
      "id": "cbc107e2-d2b0-41ba-a046-a5449b1dad81",
      "metadata": {
        "id": "cbc107e2-d2b0-41ba-a046-a5449b1dad81"
      },
      "source": [
        "X = data_x_train[['mfcc_mean1', 'mfcc_mean2', 'mfcc_mean3', 'mfcc_mean4',\n",
        "       'mfcc_mean5', 'mfcc_mean6', 'mfcc_mean7', 'mfcc_mean8', 'mfcc_mean9',\n",
        "       'mfcc_mean10', 'mfcc_mean11', 'mfcc_mean12', 'mfcc_mean13',\n",
        "       'mfcc_mean14', 'mfcc_mean15', 'mfcc_mean16', 'mfcc_mean17',\n",
        "       'mfcc_mean18', 'mfcc_mean19', 'mfcc_mean20', 'mfcc_std1', 'mfcc_std2',\n",
        "       'mfcc_std3', 'mfcc_std4', 'mfcc_std5', 'mfcc_std6', 'mfcc_std7',\n",
        "       'mfcc_std8', 'mfcc_std9', 'mfcc_std10', 'mfcc_std11', 'mfcc_std12',\n",
        "       'mfcc_std13', 'mfcc_std14', 'mfcc_std15', 'mfcc_std16', 'mfcc_std17',\n",
        "       'mfcc_std18', 'mfcc_std19', 'mfcc_std20', 'cent_mean', 'cent_std',\n",
        "       'cent_skew', 'rolloff_mean', 'rolloff_std']]\n",
        "X[0:5]"
      ]
    },
    {
      "cell_type": "code",
      "execution_count": null,
      "id": "6c11b51d-7e3f-4eb8-af8f-485e3d0c423c",
      "metadata": {
        "id": "6c11b51d-7e3f-4eb8-af8f-485e3d0c423c",
        "outputId": "df51a1de-fc1c-47a7-b8d1-f42cd398f9e0"
      },
      "outputs": [
        {
          "data": {
            "text/html": [
              "<div>\n",
              "<style scoped>\n",
              "    .dataframe tbody tr th:only-of-type {\n",
              "        vertical-align: middle;\n",
              "    }\n",
              "\n",
              "    .dataframe tbody tr th {\n",
              "        vertical-align: top;\n",
              "    }\n",
              "\n",
              "    .dataframe thead th {\n",
              "        text-align: right;\n",
              "    }\n",
              "</style>\n",
              "<table border=\"1\" class=\"dataframe\">\n",
              "  <thead>\n",
              "    <tr style=\"text-align: right;\">\n",
              "      <th></th>\n",
              "      <th>mfcc_mean1</th>\n",
              "      <th>mfcc_mean2</th>\n",
              "      <th>mfcc_mean3</th>\n",
              "      <th>mfcc_mean4</th>\n",
              "      <th>mfcc_mean5</th>\n",
              "      <th>mfcc_mean6</th>\n",
              "      <th>mfcc_mean7</th>\n",
              "      <th>mfcc_mean8</th>\n",
              "      <th>mfcc_mean9</th>\n",
              "      <th>mfcc_mean10</th>\n",
              "      <th>...</th>\n",
              "      <th>mfcc_std11</th>\n",
              "      <th>mfcc_std12</th>\n",
              "      <th>mfcc_std13</th>\n",
              "      <th>mfcc_std14</th>\n",
              "      <th>mfcc_std15</th>\n",
              "      <th>mfcc_std16</th>\n",
              "      <th>mfcc_std17</th>\n",
              "      <th>mfcc_std18</th>\n",
              "      <th>mfcc_std19</th>\n",
              "      <th>mfcc_std20</th>\n",
              "    </tr>\n",
              "  </thead>\n",
              "  <tbody>\n",
              "    <tr>\n",
              "      <th>0</th>\n",
              "      <td>-467.08884</td>\n",
              "      <td>67.734410</td>\n",
              "      <td>13.555082</td>\n",
              "      <td>38.741455</td>\n",
              "      <td>-7.167416</td>\n",
              "      <td>0.597688</td>\n",
              "      <td>-20.886284</td>\n",
              "      <td>15.138917</td>\n",
              "      <td>-8.795949</td>\n",
              "      <td>-4.386859</td>\n",
              "      <td>...</td>\n",
              "      <td>8.111265</td>\n",
              "      <td>9.971217</td>\n",
              "      <td>8.588613</td>\n",
              "      <td>8.318792</td>\n",
              "      <td>6.618607</td>\n",
              "      <td>7.076600</td>\n",
              "      <td>7.222637</td>\n",
              "      <td>7.806918</td>\n",
              "      <td>5.388669</td>\n",
              "      <td>7.536538</td>\n",
              "    </tr>\n",
              "    <tr>\n",
              "      <th>1</th>\n",
              "      <td>-455.32877</td>\n",
              "      <td>69.964820</td>\n",
              "      <td>-28.523523</td>\n",
              "      <td>32.344345</td>\n",
              "      <td>-21.611555</td>\n",
              "      <td>-1.738283</td>\n",
              "      <td>-29.974870</td>\n",
              "      <td>-2.658362</td>\n",
              "      <td>-27.071587</td>\n",
              "      <td>-14.633931</td>\n",
              "      <td>...</td>\n",
              "      <td>6.962493</td>\n",
              "      <td>6.895723</td>\n",
              "      <td>7.017729</td>\n",
              "      <td>5.085210</td>\n",
              "      <td>5.052448</td>\n",
              "      <td>5.966898</td>\n",
              "      <td>4.432629</td>\n",
              "      <td>5.499484</td>\n",
              "      <td>4.201167</td>\n",
              "      <td>8.535248</td>\n",
              "    </tr>\n",
              "    <tr>\n",
              "      <th>2</th>\n",
              "      <td>-324.05480</td>\n",
              "      <td>115.785450</td>\n",
              "      <td>-21.114456</td>\n",
              "      <td>35.512660</td>\n",
              "      <td>-13.603605</td>\n",
              "      <td>-4.507683</td>\n",
              "      <td>-6.577841</td>\n",
              "      <td>-9.184050</td>\n",
              "      <td>-18.723753</td>\n",
              "      <td>-15.142766</td>\n",
              "      <td>...</td>\n",
              "      <td>11.886771</td>\n",
              "      <td>13.955037</td>\n",
              "      <td>18.828270</td>\n",
              "      <td>9.352553</td>\n",
              "      <td>10.229453</td>\n",
              "      <td>9.870971</td>\n",
              "      <td>6.685668</td>\n",
              "      <td>7.650016</td>\n",
              "      <td>10.031831</td>\n",
              "      <td>6.412236</td>\n",
              "    </tr>\n",
              "    <tr>\n",
              "      <th>3</th>\n",
              "      <td>-412.43720</td>\n",
              "      <td>120.690140</td>\n",
              "      <td>4.870650</td>\n",
              "      <td>44.868004</td>\n",
              "      <td>-22.577837</td>\n",
              "      <td>15.440735</td>\n",
              "      <td>-18.214250</td>\n",
              "      <td>3.675842</td>\n",
              "      <td>-6.553605</td>\n",
              "      <td>-7.462927</td>\n",
              "      <td>...</td>\n",
              "      <td>8.359876</td>\n",
              "      <td>8.249008</td>\n",
              "      <td>6.921843</td>\n",
              "      <td>4.515031</td>\n",
              "      <td>5.963138</td>\n",
              "      <td>6.237720</td>\n",
              "      <td>5.724922</td>\n",
              "      <td>4.901245</td>\n",
              "      <td>5.649538</td>\n",
              "      <td>4.081949</td>\n",
              "    </tr>\n",
              "    <tr>\n",
              "      <th>4</th>\n",
              "      <td>-477.00810</td>\n",
              "      <td>113.069885</td>\n",
              "      <td>-34.195324</td>\n",
              "      <td>34.832405</td>\n",
              "      <td>-21.345510</td>\n",
              "      <td>25.681898</td>\n",
              "      <td>-27.018713</td>\n",
              "      <td>4.594828</td>\n",
              "      <td>-17.452380</td>\n",
              "      <td>1.749368</td>\n",
              "      <td>...</td>\n",
              "      <td>10.516548</td>\n",
              "      <td>7.178211</td>\n",
              "      <td>7.554842</td>\n",
              "      <td>7.380126</td>\n",
              "      <td>8.139834</td>\n",
              "      <td>7.889399</td>\n",
              "      <td>5.080637</td>\n",
              "      <td>6.300990</td>\n",
              "      <td>5.740642</td>\n",
              "      <td>5.134631</td>\n",
              "    </tr>\n",
              "  </tbody>\n",
              "</table>\n",
              "<p>5 rows × 40 columns</p>\n",
              "</div>"
            ],
            "text/plain": [
              "   mfcc_mean1  mfcc_mean2  mfcc_mean3  mfcc_mean4  mfcc_mean5  mfcc_mean6  \\\n",
              "0  -467.08884   67.734410   13.555082   38.741455   -7.167416    0.597688   \n",
              "1  -455.32877   69.964820  -28.523523   32.344345  -21.611555   -1.738283   \n",
              "2  -324.05480  115.785450  -21.114456   35.512660  -13.603605   -4.507683   \n",
              "3  -412.43720  120.690140    4.870650   44.868004  -22.577837   15.440735   \n",
              "4  -477.00810  113.069885  -34.195324   34.832405  -21.345510   25.681898   \n",
              "\n",
              "   mfcc_mean7  mfcc_mean8  mfcc_mean9  mfcc_mean10  ...  mfcc_std11  \\\n",
              "0  -20.886284   15.138917   -8.795949    -4.386859  ...    8.111265   \n",
              "1  -29.974870   -2.658362  -27.071587   -14.633931  ...    6.962493   \n",
              "2   -6.577841   -9.184050  -18.723753   -15.142766  ...   11.886771   \n",
              "3  -18.214250    3.675842   -6.553605    -7.462927  ...    8.359876   \n",
              "4  -27.018713    4.594828  -17.452380     1.749368  ...   10.516548   \n",
              "\n",
              "   mfcc_std12  mfcc_std13  mfcc_std14  mfcc_std15  mfcc_std16  mfcc_std17  \\\n",
              "0    9.971217    8.588613    8.318792    6.618607    7.076600    7.222637   \n",
              "1    6.895723    7.017729    5.085210    5.052448    5.966898    4.432629   \n",
              "2   13.955037   18.828270    9.352553   10.229453    9.870971    6.685668   \n",
              "3    8.249008    6.921843    4.515031    5.963138    6.237720    5.724922   \n",
              "4    7.178211    7.554842    7.380126    8.139834    7.889399    5.080637   \n",
              "\n",
              "   mfcc_std18  mfcc_std19  mfcc_std20  \n",
              "0    7.806918    5.388669    7.536538  \n",
              "1    5.499484    4.201167    8.535248  \n",
              "2    7.650016   10.031831    6.412236  \n",
              "3    4.901245    5.649538    4.081949  \n",
              "4    6.300990    5.740642    5.134631  \n",
              "\n",
              "[5 rows x 40 columns]"
            ]
          },
          "execution_count": 71,
          "metadata": {},
          "output_type": "execute_result"
        }
      ],
      "source": [
        "X = data_x_train[['mfcc_mean1', 'mfcc_mean2', 'mfcc_mean3', 'mfcc_mean4',\n",
        "       'mfcc_mean5', 'mfcc_mean6', 'mfcc_mean7', 'mfcc_mean8', 'mfcc_mean9',\n",
        "       'mfcc_mean10', 'mfcc_mean11', 'mfcc_mean12', 'mfcc_mean13',\n",
        "       'mfcc_mean14', 'mfcc_mean15', 'mfcc_mean16', 'mfcc_mean17',\n",
        "       'mfcc_mean18', 'mfcc_mean19', 'mfcc_mean20', 'mfcc_std1', 'mfcc_std2',\n",
        "       'mfcc_std3', 'mfcc_std4', 'mfcc_std5', 'mfcc_std6', 'mfcc_std7',\n",
        "       'mfcc_std8', 'mfcc_std9', 'mfcc_std10', 'mfcc_std11', 'mfcc_std12',\n",
        "       'mfcc_std13', 'mfcc_std14', 'mfcc_std15', 'mfcc_std16', 'mfcc_std17',\n",
        "       'mfcc_std18', 'mfcc_std19', 'mfcc_std20']]\n",
        "X[0:5]"
      ]
    },
    {
      "cell_type": "markdown",
      "id": "58ffdec4-b8c8-4364-9501-26baf6059813",
      "metadata": {
        "id": "58ffdec4-b8c8-4364-9501-26baf6059813"
      },
      "source": [
        "X также нужно преобразовать Dataframes (фрейм данных) Pandas в массив Numpy."
      ]
    },
    {
      "cell_type": "markdown",
      "id": "9b00c298-9981-4ce6-a055-52b67b066549",
      "metadata": {
        "id": "9b00c298-9981-4ce6-a055-52b67b066549"
      },
      "source": [
        "Стандартизации набора данных\n",
        "Если в наборе данных есть некоторые выбросы или значения переменных находятся в разных диапазонах, необходимо исправить их.\n",
        "\n",
        "Стандартизация данных дает нулевое среднее значение и единичную дисперсию,\n",
        "\n",
        "Пакет предварительной обработки SciKit Learn предоставляет несколько общих служебных функций и классов трансформаторов для изменения необработанных векторных объектов в подходящую форму вектора для моделирования."
      ]
    },
    {
      "cell_type": "code",
      "execution_count": null,
      "id": "19899483-2915-4b49-870a-bc4ee3446fe4",
      "metadata": {
        "id": "19899483-2915-4b49-870a-bc4ee3446fe4",
        "outputId": "1539d29f-3f52-4816-8942-ec5508da23a3"
      },
      "outputs": [
        {
          "data": {
            "text/plain": [
              "array([[-0.38176882, -1.51906071,  1.19722768,  0.35407143,  0.61474435,\n",
              "        -1.29791423, -0.51302425,  1.01642758,  0.09140203, -0.62130851,\n",
              "         0.30533685,  0.45507495,  0.56449373,  0.56218751,  0.16863973,\n",
              "         0.85506944, -0.27322038,  0.28678452,  0.56558125, -0.08313971,\n",
              "         0.94504759,  0.75685573,  0.68380159,  0.5169614 ,  0.7567169 ,\n",
              "         1.52633272,  2.19961267,  1.32607917,  0.75365158,  1.53740976,\n",
              "        -0.22797152,  0.9602555 ,  0.55275249,  0.34535876, -0.03566159,\n",
              "        -0.4745071 ,  0.60562956,  0.52261493, -0.34072877,  0.79779667],\n",
              "       [-0.24018679, -1.42117499, -1.37030587, -0.10689177, -0.46940315,\n",
              "        -1.49541522, -1.27234934, -0.95820371, -2.0741589 , -2.27480679,\n",
              "        -1.5792532 , -2.3340465 , -1.75464524, -1.55120048, -1.77703525,\n",
              "        -1.19324997, -1.60792188, -1.25517892, -1.04643523, -1.88693192,\n",
              "         0.43007941, -0.32421754, -0.14484971,  0.39673959, -0.91440392,\n",
              "        -0.05929297,  0.88275978, -0.78666412,  0.70005676, -0.0335767 ,\n",
              "        -0.76883388, -0.58230925, -0.30415354, -1.26588425, -1.07650713,\n",
              "        -0.96349295, -1.27986388, -0.78102394, -1.10756647,  1.3998734 ]])"
            ]
          },
          "execution_count": 72,
          "metadata": {},
          "output_type": "execute_result"
        }
      ],
      "source": [
        "from sklearn import preprocessing\n",
        "X= preprocessing.StandardScaler().fit(X).transform(X)\n",
        "X[0:2]"
      ]
    },
    {
      "cell_type": "markdown",
      "id": "f5fc052e-92b6-46ef-bc8a-70e49a6256ce",
      "metadata": {
        "id": "f5fc052e-92b6-46ef-bc8a-70e49a6256ce"
      },
      "source": [
        "Разделение набора данных на тренировочные и тестовые наборы (train/test split) и настройка алгоритма.\n",
        "\n",
        "Точность вне выборки - это процент правильных прогнозов, которые модель делает для данных, на которых НЕ была обучена модель. Выполнение обучения и тестирования одного и того же набора данных, скорее всего, будет иметь низкую точность вне выборки из-за вероятности переобучения нашей модели.\n",
        "\n",
        "Важно, чтобы наши модели имели высокую точность вне выборки, потому что цель любой модели, конечно, состоит в том, чтобы делать правильные прогнозы на неизвестных данных. Итак, как мы можем улучшить точность вне выборки? Один из способов - использовать метод оценки, называемый разделением train/test split.\n",
        "\n",
        "Разделение на обучение / тестирование включает в себя разделение набора данных на обучающий и тестовый наборы соответственно, которые являются взаимоисключающими. После этого тренируем с обучающим набором (train) и тестируем с помощью набора для тестирования (test).\n",
        "\n",
        "Это обеспечит более точную оценку точности вне выборки, поскольку набор данных тестирования (test) не является частью набора данных, который использовался для обучения модели (train).\n",
        "\n",
        "Для анализа необходимо разделить набор данных на тренировочные и тестовые наборы (train/test split).\n",
        "\n",
        "test_size представляет собой соотношение тестового набора данных, а random_state гарантирует, что мы получим те же разбиения.\n",
        "\n",
        "Для преобразования данных в более высоком пространственном пространстве используется Математическая функция, известная, как функция ядра - RBF (радиальная базисная функция)\n",
        "\n",
        "Размер тренировочных и тестовых наборов (количество строк, колонок)\n",
        "Прогнозирование новых значений в тестовом наборе после обучения на тренировочном наборе."
      ]
    },
    {
      "cell_type": "code",
      "execution_count": null,
      "id": "d36454d6-2342-4aaa-bf50-c0412c242e74",
      "metadata": {
        "id": "d36454d6-2342-4aaa-bf50-c0412c242e74",
        "outputId": "69d4766b-b62e-4e5f-8a30-b1bb18c1b5ce"
      },
      "outputs": [
        {
          "name": "stdout",
          "output_type": "stream",
          "text": [
            "Train set: (127926, 40) (127926,)\n",
            "Test set: (54826, 40) (54826,)\n"
          ]
        },
        {
          "data": {
            "text/plain": [
              "array([0, 0, 0, 0, 0, 0, 1, 1, 0, 0])"
            ]
          },
          "execution_count": 73,
          "metadata": {},
          "output_type": "execute_result"
        }
      ],
      "source": [
        "from sklearn.model_selection import train_test_split\n",
        "# Разделение набора данных на тренировочные и тестовые наборы (train/test split)\n",
        "X_train, X_test, y_train, y_test = train_test_split( X, y, test_size=0.3,\n",
        "                                                            random_state=20)\n",
        "\n",
        "# размер тренировочных и тестовых наборов (количество строк, колонок):\n",
        "print ('Train set:', X_train.shape, y_train.shape)\n",
        "print ('Test set:', X_test.shape, y_test.shape)\n",
        "\n",
        "from sklearn import svm\n",
        "clf = svm.SVC(kernel='rbf')   #  функция ядра - RBF (радиальная базисная функция)\n",
        "clf.fit(X_train, y_train)     # Обучение модели на тренировочном наборе\n",
        "yhat = clf.predict(X_test)    # для прогнозирования новых значений:\n",
        "yhat [0:10]"
      ]
    },
    {
      "cell_type": "markdown",
      "id": "f3d9dc03-892d-4827-bd17-ebe3af565fe4",
      "metadata": {
        "id": "f3d9dc03-892d-4827-bd17-ebe3af565fe4"
      },
      "source": [
        "Сравнение реальных значений и новых значений (после прогнозирования) - визуально сравнить прогнозы с фактическими значениями."
      ]
    },
    {
      "cell_type": "code",
      "execution_count": null,
      "id": "ab5fe359-568d-4b7f-a2c3-303d0fe51202",
      "metadata": {
        "id": "ab5fe359-568d-4b7f-a2c3-303d0fe51202",
        "outputId": "9abfa1f2-cc5c-4bb0-a6c1-becf10398d37"
      },
      "outputs": [
        {
          "name": "stdout",
          "output_type": "stream",
          "text": [
            "Prediction: [0 0 0 0 0 0 1 1 0 0 0 0 0 0 0 0 1 0 0 0]\n",
            "Real Value: [1 0 0 0 0 0 0 1 0 0 1 2 0 0 1 1 1 0 2 0]\n"
          ]
        }
      ],
      "source": [
        "print(\"Prediction:\", yhat[0:20])\n",
        "print(\"Real Value:\", y_test[0:20])"
      ]
    },
    {
      "cell_type": "markdown",
      "id": "0e9a29c7-acfb-4008-84f7-371e294dda9c",
      "metadata": {
        "id": "0e9a29c7-acfb-4008-84f7-371e294dda9c"
      },
      "source": [
        "Метрики для оценки точности модели\n",
        "Показатели оценки объясняют эффективность модели.  Мы обучили модель, и теперь хотим рассчитать ее точность с помощью тестового набора.\n",
        "\n",
        "Импортируем метрики из sklearn и проверим точность нашей модели. В основном, мы сравниваем фактические значения в тестовом наборе со значениями, предсказанными моделью, чтобы рассчитать точность модели.  Существуют различные метрики оценки моделей\n",
        "\n",
        "      - оценка классификации точности - это функция, которая вычисляет точность подмножества, долю правильных ответов алгоритма. По сути, он вычисляет, насколько точно совпадают фактические и прогнозируемые метки в тестовом наборе.\n",
        "Если весь набор предсказанных меток для выборки строго соответствует истинному набору меток, то точность подмножества равна 1,0 , в противном случае 0,0."
      ]
    },
    {
      "cell_type": "code",
      "execution_count": null,
      "id": "664b489c-d429-4cd7-99d0-ac97b6b88c5d",
      "metadata": {
        "id": "664b489c-d429-4cd7-99d0-ac97b6b88c5d",
        "outputId": "b09dab5c-63b3-4512-ffaa-98e2454e31df"
      },
      "outputs": [
        {
          "name": "stdout",
          "output_type": "stream",
          "text": [
            "Train set Accuracy:  0.6842940449947627\n",
            "Test set Accuracy:  0.6622587823295517\n"
          ]
        }
      ],
      "source": [
        "# accuracy evaluation\n",
        "from sklearn import metrics\n",
        "print(\"Train set Accuracy: \", metrics.accuracy_score(y_train, clf.predict(X_train)))\n",
        "print(\"Test set Accuracy: \",metrics.accuracy_score(y_test, yhat) )"
      ]
    },
    {
      "cell_type": "markdown",
      "id": "b6d58ed2-ed62-4718-81a4-2d06f59c197f",
      "metadata": {
        "id": "b6d58ed2-ed62-4718-81a4-2d06f59c197f"
      },
      "source": [
        "F1 score - Сonfusion matrix (матрица путаницы, матрица ошибок)\n",
        "Другой способ проверить точность классификатора - это посмотреть на матрицу неточностей.\n",
        "\n",
        "Эта матрица показывает корректные и неправильные прогнозы по сравнению с фактическими метками.\n",
        "\n",
        "Каждая строка матрицы путаницы показывает метки Actual/True в тестовом наборе, а столбцы показывают прогнозируемые метки по классификатору. Мы можем интерпретировать эти числа как количество истинных положительных, ложных отрицательных, истинных отрицательных и ложных срабатываний.  Матрица путаницы показывает способность модели правильно предсказать или разделить классы.\n",
        "\n",
        "Основываясь на количестве в каждой секции, мы можем рассчитать precision (точность) и Recall (отзывчивость) каждой метки:\n",
        "Precision (Точность) - это мера точности при условии, что метка класса была предсказана. Он определяется как:\n",
        "Recall (Отзыв) - это истинно положительный показатель. Это определяется как: Recall (Отзыв) = TP / (TP + FN)\n",
        "Итак, мы можем вычислить Precision ( точность) и Recall (отзыв) каждого класса.\n",
        "F1 score: Теперь мы можем рассчитать оценки F1 для каждой метки на основе Precision и Recall этой метки.\n",
        "F1 score представляет собой гармоническое среднее значение Precision (точности) и Recall (отзывчивости), где F1 score (оценка F1) достигает своего лучшего значения при 1 (идеальная точность и отзывчивость) и худшего при 0.\n",
        "\n",
        "Это хороший способ показать, что классификатор имеет хорошее значение для Recall (отзыв) и Precision (точность).\n",
        "\n",
        "Наконец, мы можем сказать, что средняя Accuracy (точность) для этого классификатора - это средний балл F1 для обеих меток,\n"
      ]
    },
    {
      "cell_type": "code",
      "execution_count": null,
      "id": "36b7bea0-cd68-446a-acd1-73613940414a",
      "metadata": {
        "id": "36b7bea0-cd68-446a-acd1-73613940414a",
        "outputId": "2621a81d-555c-42a9-9cc9-a1c3277e0aeb"
      },
      "outputs": [
        {
          "name": "stdout",
          "output_type": "stream",
          "text": [
            "матрица ошибок :\n",
            "\n",
            "[[31509  1114   298]\n",
            " [11853  3640   368]\n",
            " [ 4079   805  1160]]\n",
            "\n",
            "\n",
            "Отчёт:\n",
            "\n",
            "              precision    recall  f1-score   support\n",
            "\n",
            "           0       0.66      0.96      0.78     32921\n",
            "           1       0.65      0.23      0.34     15861\n",
            "           2       0.64      0.19      0.29      6044\n",
            "\n",
            "    accuracy                           0.66     54826\n",
            "   macro avg       0.65      0.46      0.47     54826\n",
            "weighted avg       0.66      0.66      0.60     54826\n",
            "\n"
          ]
        }
      ],
      "source": [
        "from sklearn.metrics import classification_report,confusion_matrix\n",
        "\n",
        "print('матрица ошибок :\\n')\n",
        "print(confusion_matrix(y_test,yhat))\n",
        "print('\\n')\n",
        "print('Отчёт:\\n')\n",
        "print(classification_report(y_test,yhat))"
      ]
    },
    {
      "cell_type": "code",
      "execution_count": null,
      "id": "89e3b7e2-ec05-480d-8dbf-6a754769c48e",
      "metadata": {
        "id": "89e3b7e2-ec05-480d-8dbf-6a754769c48e",
        "outputId": "61cfdd21-5c62-4115-ab9e-114becbb38b1"
      },
      "outputs": [
        {
          "data": {
            "text/html": [
              "<style>#sk-container-id-3 {color: black;background-color: white;}#sk-container-id-3 pre{padding: 0;}#sk-container-id-3 div.sk-toggleable {background-color: white;}#sk-container-id-3 label.sk-toggleable__label {cursor: pointer;display: block;width: 100%;margin-bottom: 0;padding: 0.3em;box-sizing: border-box;text-align: center;}#sk-container-id-3 label.sk-toggleable__label-arrow:before {content: \"▸\";float: left;margin-right: 0.25em;color: #696969;}#sk-container-id-3 label.sk-toggleable__label-arrow:hover:before {color: black;}#sk-container-id-3 div.sk-estimator:hover label.sk-toggleable__label-arrow:before {color: black;}#sk-container-id-3 div.sk-toggleable__content {max-height: 0;max-width: 0;overflow: hidden;text-align: left;background-color: #f0f8ff;}#sk-container-id-3 div.sk-toggleable__content pre {margin: 0.2em;color: black;border-radius: 0.25em;background-color: #f0f8ff;}#sk-container-id-3 input.sk-toggleable__control:checked~div.sk-toggleable__content {max-height: 200px;max-width: 100%;overflow: auto;}#sk-container-id-3 input.sk-toggleable__control:checked~label.sk-toggleable__label-arrow:before {content: \"▾\";}#sk-container-id-3 div.sk-estimator input.sk-toggleable__control:checked~label.sk-toggleable__label {background-color: #d4ebff;}#sk-container-id-3 div.sk-label input.sk-toggleable__control:checked~label.sk-toggleable__label {background-color: #d4ebff;}#sk-container-id-3 input.sk-hidden--visually {border: 0;clip: rect(1px 1px 1px 1px);clip: rect(1px, 1px, 1px, 1px);height: 1px;margin: -1px;overflow: hidden;padding: 0;position: absolute;width: 1px;}#sk-container-id-3 div.sk-estimator {font-family: monospace;background-color: #f0f8ff;border: 1px dotted black;border-radius: 0.25em;box-sizing: border-box;margin-bottom: 0.5em;}#sk-container-id-3 div.sk-estimator:hover {background-color: #d4ebff;}#sk-container-id-3 div.sk-parallel-item::after {content: \"\";width: 100%;border-bottom: 1px solid gray;flex-grow: 1;}#sk-container-id-3 div.sk-label:hover label.sk-toggleable__label {background-color: #d4ebff;}#sk-container-id-3 div.sk-serial::before {content: \"\";position: absolute;border-left: 1px solid gray;box-sizing: border-box;top: 0;bottom: 0;left: 50%;z-index: 0;}#sk-container-id-3 div.sk-serial {display: flex;flex-direction: column;align-items: center;background-color: white;padding-right: 0.2em;padding-left: 0.2em;position: relative;}#sk-container-id-3 div.sk-item {position: relative;z-index: 1;}#sk-container-id-3 div.sk-parallel {display: flex;align-items: stretch;justify-content: center;background-color: white;position: relative;}#sk-container-id-3 div.sk-item::before, #sk-container-id-3 div.sk-parallel-item::before {content: \"\";position: absolute;border-left: 1px solid gray;box-sizing: border-box;top: 0;bottom: 0;left: 50%;z-index: -1;}#sk-container-id-3 div.sk-parallel-item {display: flex;flex-direction: column;z-index: 1;position: relative;background-color: white;}#sk-container-id-3 div.sk-parallel-item:first-child::after {align-self: flex-end;width: 50%;}#sk-container-id-3 div.sk-parallel-item:last-child::after {align-self: flex-start;width: 50%;}#sk-container-id-3 div.sk-parallel-item:only-child::after {width: 0;}#sk-container-id-3 div.sk-dashed-wrapped {border: 1px dashed gray;margin: 0 0.4em 0.5em 0.4em;box-sizing: border-box;padding-bottom: 0.4em;background-color: white;}#sk-container-id-3 div.sk-label label {font-family: monospace;font-weight: bold;display: inline-block;line-height: 1.2em;}#sk-container-id-3 div.sk-label-container {text-align: center;}#sk-container-id-3 div.sk-container {/* jupyter's `normalize.less` sets `[hidden] { display: none; }` but bootstrap.min.css set `[hidden] { display: none !important; }` so we also need the `!important` here to be able to override the default hidden behavior on the sphinx rendered scikit-learn.org. See: https://github.com/scikit-learn/scikit-learn/issues/21755 */display: inline-block !important;position: relative;}#sk-container-id-3 div.sk-text-repr-fallback {display: none;}</style><div id=\"sk-container-id-3\" class=\"sk-top-container\"><div class=\"sk-text-repr-fallback\"><pre>DecisionTreeClassifier(criterion=&#x27;entropy&#x27;)</pre><b>In a Jupyter environment, please rerun this cell to show the HTML representation or trust the notebook. <br />On GitHub, the HTML representation is unable to render, please try loading this page with nbviewer.org.</b></div><div class=\"sk-container\" hidden><div class=\"sk-item\"><div class=\"sk-estimator sk-toggleable\"><input class=\"sk-toggleable__control sk-hidden--visually\" id=\"sk-estimator-id-3\" type=\"checkbox\" checked><label for=\"sk-estimator-id-3\" class=\"sk-toggleable__label sk-toggleable__label-arrow\">DecisionTreeClassifier</label><div class=\"sk-toggleable__content\"><pre>DecisionTreeClassifier(criterion=&#x27;entropy&#x27;)</pre></div></div></div></div></div>"
            ],
            "text/plain": [
              "DecisionTreeClassifier(criterion='entropy')"
            ]
          },
          "execution_count": 77,
          "metadata": {},
          "output_type": "execute_result"
        }
      ],
      "source": [
        "from sklearn import tree\n",
        "model=tree.DecisionTreeClassifier(criterion=\"entropy\")\n",
        "model.fit(X_train, y_train)"
      ]
    },
    {
      "cell_type": "code",
      "execution_count": null,
      "id": "4dcb9250-4934-4c0e-9913-3fae6c3b7ab0",
      "metadata": {
        "id": "4dcb9250-4934-4c0e-9913-3fae6c3b7ab0"
      },
      "outputs": [],
      "source": [
        "yhat_tree = model.predict(X_test)"
      ]
    },
    {
      "cell_type": "code",
      "execution_count": null,
      "id": "64bf4f80-4f5b-4008-be04-b5ea4c5eea66",
      "metadata": {
        "id": "64bf4f80-4f5b-4008-be04-b5ea4c5eea66",
        "outputId": "1873cefb-6990-4202-e2e2-70c73d7dcf9f"
      },
      "outputs": [
        {
          "name": "stdout",
          "output_type": "stream",
          "text": [
            "CONFUSION_MATRIX :\n",
            "\n",
            "[[21285  8779  2857]\n",
            " [ 8216  5783  1862]\n",
            " [ 2724  1790  1530]]\n",
            "\n",
            "\n",
            "REPORT :\n",
            "\n",
            "              precision    recall  f1-score   support\n",
            "\n",
            "           0       0.66      0.65      0.65     32921\n",
            "           1       0.35      0.36      0.36     15861\n",
            "           2       0.24      0.25      0.25      6044\n",
            "\n",
            "    accuracy                           0.52     54826\n",
            "   macro avg       0.42      0.42      0.42     54826\n",
            "weighted avg       0.53      0.52      0.52     54826\n",
            "\n"
          ]
        }
      ],
      "source": [
        "print('CONFUSION_MATRIX :\\n')\n",
        "print(confusion_matrix(y_test,yhat_tree))\n",
        "print('\\n')\n",
        "print('REPORT :\\n')\n",
        "print(classification_report(y_test,yhat_tree))"
      ]
    },
    {
      "cell_type": "code",
      "execution_count": null,
      "id": "8c7e3a5d-5ac5-46ec-9a17-026de5597371",
      "metadata": {
        "id": "8c7e3a5d-5ac5-46ec-9a17-026de5597371"
      },
      "outputs": [],
      "source": [
        "clf_noparams = svm.SVC()   #  функция ядра\n",
        "clf_noparams.fit(X_train, y_train)     # Обучение модели на тренировочном наборе\n",
        "yhat_noparams = clf_noparams.predict(X_test)"
      ]
    },
    {
      "cell_type": "code",
      "execution_count": null,
      "id": "ddf2810a-820c-4311-bda8-c91e060f1410",
      "metadata": {
        "id": "ddf2810a-820c-4311-bda8-c91e060f1410",
        "outputId": "8fb1c537-5f8d-4b40-cb73-f54f703ed1de"
      },
      "outputs": [
        {
          "name": "stdout",
          "output_type": "stream",
          "text": [
            "матрица ошибок :\n",
            "\n",
            "[[31509  1114   298]\n",
            " [11853  3640   368]\n",
            " [ 4079   805  1160]]\n",
            "\n",
            "\n",
            "Отчёт:\n",
            "\n",
            "              precision    recall  f1-score   support\n",
            "\n",
            "           0       0.66      0.96      0.78     32921\n",
            "           1       0.65      0.23      0.34     15861\n",
            "           2       0.64      0.19      0.29      6044\n",
            "\n",
            "    accuracy                           0.66     54826\n",
            "   macro avg       0.65      0.46      0.47     54826\n",
            "weighted avg       0.66      0.66      0.60     54826\n",
            "\n"
          ]
        }
      ],
      "source": [
        "print('матрица ошибок :\\n')\n",
        "print(confusion_matrix(y_test,yhat_noparams))\n",
        "print('\\n')\n",
        "print('Отчёт:\\n')\n",
        "print(classification_report(y_test,yhat_noparams))"
      ]
    },
    {
      "cell_type": "code",
      "execution_count": null,
      "id": "a6b0d99f-9941-4f6d-b70b-b06c20f2d75d",
      "metadata": {
        "id": "a6b0d99f-9941-4f6d-b70b-b06c20f2d75d"
      },
      "outputs": [],
      "source": [
        "\n",
        "from sklearn.neighbors import KNeighborsClassifier\n",
        "model_km = KNeighborsClassifier(n_neighbors = 1)\n",
        "model_km.fit(X_train, y_train)\n",
        "yhat_km = model_km.predict(X_test)"
      ]
    },
    {
      "cell_type": "code",
      "execution_count": null,
      "id": "4557e93e-5ffd-4add-aeb7-0943dba5f2a8",
      "metadata": {
        "id": "4557e93e-5ffd-4add-aeb7-0943dba5f2a8",
        "outputId": "5cba66f0-9210-4248-c01e-c0e756ed3995"
      },
      "outputs": [
        {
          "name": "stdout",
          "output_type": "stream",
          "text": [
            "матрица ошибок :\n",
            "\n",
            "[[25127  5929  1865]\n",
            " [ 6655  7719  1487]\n",
            " [ 2300  1525  2219]]\n",
            "\n",
            "\n",
            "Отчёт:\n",
            "\n",
            "              precision    recall  f1-score   support\n",
            "\n",
            "           0       0.74      0.76      0.75     32921\n",
            "           1       0.51      0.49      0.50     15861\n",
            "           2       0.40      0.37      0.38      6044\n",
            "\n",
            "    accuracy                           0.64     54826\n",
            "   macro avg       0.55      0.54      0.54     54826\n",
            "weighted avg       0.63      0.64      0.64     54826\n",
            "\n"
          ]
        }
      ],
      "source": [
        "print('матрица ошибок :\\n')\n",
        "print(confusion_matrix(y_test,yhat_km))\n",
        "print('\\n')\n",
        "print('Отчёт:\\n')\n",
        "print(classification_report(y_test,yhat_km))"
      ]
    },
    {
      "cell_type": "code",
      "execution_count": null,
      "id": "d0387717-17d3-495e-bce7-d4859f6fe552",
      "metadata": {
        "id": "d0387717-17d3-495e-bce7-d4859f6fe552"
      },
      "outputs": [],
      "source": []
    }
  ],
  "metadata": {
    "kernelspec": {
      "display_name": "Python 3 (ipykernel)",
      "language": "python",
      "name": "python3"
    },
    "language_info": {
      "codemirror_mode": {
        "name": "ipython",
        "version": 3
      },
      "file_extension": ".py",
      "mimetype": "text/x-python",
      "name": "python",
      "nbconvert_exporter": "python",
      "pygments_lexer": "ipython3",
      "version": "3.10.9"
    },
    "colab": {
      "provenance": [],
      "include_colab_link": true
    }
  },
  "nbformat": 4,
  "nbformat_minor": 5
}